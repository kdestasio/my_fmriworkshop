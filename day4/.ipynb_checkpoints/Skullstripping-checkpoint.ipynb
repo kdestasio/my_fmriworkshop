{
 "cells": [
  {
   "cell_type": "markdown",
   "metadata": {},
   "source": [
    "### Skullstripping with BET"
   ]
  },
  {
   "cell_type": "code",
   "execution_count": 5,
   "metadata": {
    "collapsed": true
   },
   "outputs": [],
   "source": [
    "from subprocess import check_call\n",
    "import os\n",
    "from glob import glob"
   ]
  },
  {
   "cell_type": "code",
   "execution_count": 17,
   "metadata": {
    "collapsed": true
   },
   "outputs": [],
   "source": [
    "t1w=\"/Users/kristadestasio/Desktop/data/sub-*/anat/*.nii.gz\""
   ]
  },
  {
   "cell_type": "code",
   "execution_count": 21,
   "metadata": {},
   "outputs": [
    {
     "name": "stdout",
     "output_type": "stream",
     "text": [
      "bet /Users/kristadestasio/Desktop/data/sub-10159/anat/sub-10159_T1w.nii.gz /tmp/sub-10159_T1w_brain -m\n",
      "bet /Users/kristadestasio/Desktop/data/sub-10171/anat/sub-10171_T1w.nii.gz /tmp/sub-10171_T1w_brain -m\n",
      "bet /Users/kristadestasio/Desktop/data/sub-10189/anat/sub-10189_T1w.nii.gz /tmp/sub-10189_T1w_brain -m\n",
      "bet /Users/kristadestasio/Desktop/data/sub-10193/anat/sub-10193_T1w.nii.gz /tmp/sub-10193_T1w_brain -m\n",
      "bet /Users/kristadestasio/Desktop/data/sub-10206/anat/sub-10206_T1w.nii.gz /tmp/sub-10206_T1w_brain -m\n",
      "bet /Users/kristadestasio/Desktop/data/sub-10217/anat/sub-10217_T1w.nii.gz /tmp/sub-10217_T1w_brain -m\n",
      "bet /Users/kristadestasio/Desktop/data/sub-10225/anat/sub-10225_T1w.nii.gz /tmp/sub-10225_T1w_brain -m\n",
      "bet /Users/kristadestasio/Desktop/data/sub-10227/anat/sub-10227_T1w.nii.gz /tmp/sub-10227_T1w_brain -m\n",
      "bet /Users/kristadestasio/Desktop/data/sub-10228/anat/sub-10228_T1w.nii.gz /tmp/sub-10228_T1w_brain -m\n",
      "bet /Users/kristadestasio/Desktop/data/sub-10235/anat/sub-10235_T1w.nii.gz /tmp/sub-10235_T1w_brain -m\n",
      "bet /Users/kristadestasio/Desktop/data/sub-10249/anat/sub-10249_T1w.nii.gz /tmp/sub-10249_T1w_brain -m\n",
      "bet /Users/kristadestasio/Desktop/data/sub-10269/anat/sub-10269_T1w.nii.gz /tmp/sub-10269_T1w_brain -m\n",
      "bet /Users/kristadestasio/Desktop/data/sub-10271/anat/sub-10271_T1w.nii.gz /tmp/sub-10271_T1w_brain -m\n",
      "bet /Users/kristadestasio/Desktop/data/sub-10273/anat/sub-10273_T1w.nii.gz /tmp/sub-10273_T1w_brain -m\n",
      "bet /Users/kristadestasio/Desktop/data/sub-10274/anat/sub-10274_T1w.nii.gz /tmp/sub-10274_T1w_brain -m\n",
      "bet /Users/kristadestasio/Desktop/data/sub-10280/anat/sub-10280_T1w.nii.gz /tmp/sub-10280_T1w_brain -m\n",
      "bet /Users/kristadestasio/Desktop/data/sub-10290/anat/sub-10290_T1w.nii.gz /tmp/sub-10290_T1w_brain -m\n",
      "bet /Users/kristadestasio/Desktop/data/sub-10292/anat/sub-10292_T1w.nii.gz /tmp/sub-10292_T1w_brain -m\n"
     ]
    }
   ],
   "source": [
    "output_dir=\"/tmp\"\n",
    "for input_file in glob(\"/Users/kristadestasio/Desktop/data/sub-*/anat/*.nii.gz\"):\n",
    "    my_cmd_template = \"bet {input_file} {output_file} -m\"\n",
    "    directory, file_name = os.path.split(input_file) # splits the input_file into directory and file name\n",
    "    list_of_tokens = file_name.split(\".\") # takes the file name and separates by period\n",
    "    out_file_name = list_of_tokens[0] + \"_brain\" #takes the first item in file_name and adds _brain to the output file name\n",
    "    out_path = os.path.join(output_dir, out_file_name) # add the output directory to the output filename \n",
    "    cmd = my_cmd_template.format(input_file=input_file, output_file=out_path)\n",
    "    print(cmd)\n",
    "    check_call(cmd, shell=True)\n",
    "    # check_call(\"bet /Users/kristadestasio/Desktop/data/sub-10159/ses-wave1/anat/*.nii.gz\", shell=True)"
   ]
  },
  {
   "cell_type": "code",
   "execution_count": 15,
   "metadata": {},
   "outputs": [
    {
     "name": "stdout",
     "output_type": "stream",
     "text": [
      "ls: /tmp/sub-10159_T1w_brain.nii.gz: No such file or directory\r\n"
     ]
    }
   ],
   "source": [
    "!ls /tmp/sub-10159_T1w_brain.nii.gz"
   ]
  },
  {
   "cell_type": "code",
   "execution_count": null,
   "metadata": {
    "collapsed": true
   },
   "outputs": [],
   "source": []
  },
  {
   "cell_type": "code",
   "execution_count": null,
   "metadata": {
    "collapsed": true
   },
   "outputs": [],
   "source": []
  },
  {
   "cell_type": "code",
   "execution_count": null,
   "metadata": {
    "collapsed": true
   },
   "outputs": [],
   "source": []
  }
 ],
 "metadata": {
  "kernelspec": {
   "display_name": "Python 3",
   "language": "python",
   "name": "python3"
  },
  "language_info": {
   "codemirror_mode": {
    "name": "ipython",
    "version": 3
   },
   "file_extension": ".py",
   "mimetype": "text/x-python",
   "name": "python",
   "nbconvert_exporter": "python",
   "pygments_lexer": "ipython3",
   "version": "3.6.3"
  }
 },
 "nbformat": 4,
 "nbformat_minor": 2
}
